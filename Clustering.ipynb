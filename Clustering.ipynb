{
  "nbformat": 4,
  "nbformat_minor": 0,
  "metadata": {
    "colab": {
      "provenance": []
    },
    "kernelspec": {
      "name": "python3",
      "display_name": "Python 3"
    },
    "language_info": {
      "name": "python"
    }
  },
  "cells": [
    {
      "cell_type": "code",
      "source": [
        "import numpy as np\n",
        "import pandas as pd\n",
        "from scipy.spatial.distance import cdist\n",
        "from sklearn.metrics import silhouette_score\n",
        "from sklearn.cluster import KMeans\n",
        "import matplotlib.pyplot as plt"
      ],
      "metadata": {
        "id": "InmUhQN11kuw"
      },
      "execution_count": 6,
      "outputs": []
    },
    {
      "cell_type": "code",
      "execution_count": 9,
      "metadata": {
        "id": "QgDpT4rjqUQd"
      },
      "outputs": [],
      "source": [
        "def pillars(X, k):\n",
        "    if isinstance(X, pd.DataFrame):\n",
        "        X = X.values\n",
        "\n",
        "    n_samples, n_features = X.shape\n",
        "\n",
        "    # Step 1: Choose the first centroid randomly\n",
        "    centroids = np.zeros((k, n_features))\n",
        "    centroids[0] = X[np.random.choice(n_samples)]\n",
        "\n",
        "    # Step 2: Choose the remaining centroids\n",
        "    for i in range(1, k):\n",
        "        distances = np.array([min([np.linalg.norm(x - c) for c in centroids[:i]]) for x in X])\n",
        "        next_centroid = X[np.argmax(distances)]\n",
        "        centroids[i] = next_centroid\n",
        "\n",
        "    return centroids\n",
        "\n",
        "\n",
        "def perform_clustering(X, k, num_iters, c):\n",
        "    centroids_history = []  # Menampung nilai centroid pada setiap iterasi\n",
        "    labels_history = []  # Menampung hasil clustering pada setiap iterasi\n",
        "    data_count_history = []  # Menampung jumlah data tiap cluster pada setiap iterasi\n",
        "    centroids = c\n",
        "\n",
        "    for i in range(num_iters):\n",
        "        distances = cdist(X, centroids, 'euclidean')\n",
        "        labels = np.argmin(distances, axis=1)\n",
        "        new_centroids = np.array([X[labels == j].mean(axis=0) for j in range(k)])\n",
        "\n",
        "        centroids_history.append(new_centroids)  # Menambahkan nilai centroid pada setiap iterasi ke dalam list\n",
        "        labels_history.append(labels)\n",
        "\n",
        "        # Menghitung jumlah data tiap cluster pada setiap iterasi\n",
        "        data_count = [np.sum(labels == j) for j in range(k)]\n",
        "        data_count_history.append(data_count)\n",
        "\n",
        "        if np.all(centroids == new_centroids):\n",
        "            break\n",
        "\n",
        "        centroids = new_centroids\n",
        "\n",
        "    silhouette_avg = silhouette_score(X, labels_history[-1])\n",
        "\n",
        "    return labels_history, centroids_history, data_count_history, silhouette_avg\n",
        "\n",
        "# Fungsi untuk optimasi jumlah cluster\n",
        "def optimize_cluster(X):\n",
        "    wcss = []\n",
        "    for i in range(1, 11):\n",
        "        kmeans = KMeans(n_clusters=i, init='k-means++', max_iter=300, n_init=10, random_state=0)\n",
        "        kmeans.fit(X)\n",
        "        wcss.append(kmeans.inertia_)\n",
        "    plt.plot(range(1, 11), wcss)\n",
        "    plt.title('Metode Elbow')\n",
        "    plt.xlabel('Jumlah cluster')\n",
        "    plt.ylabel('WCSS')\n",
        "    plt.show()"
      ]
    },
    {
      "cell_type": "code",
      "source": [
        "# Upload Database\n",
        "from google.colab import files\n",
        "uploaded = files.upload()"
      ],
      "metadata": {
        "colab": {
          "base_uri": "https://localhost:8080/",
          "height": 73
        },
        "id": "Hhl_SE8x0SG6",
        "outputId": "2b6627e7-d8b9-4ddd-947f-57bd87ae2c0c"
      },
      "execution_count": 20,
      "outputs": [
        {
          "output_type": "display_data",
          "data": {
            "text/plain": [
              "<IPython.core.display.HTML object>"
            ],
            "text/html": [
              "\n",
              "     <input type=\"file\" id=\"files-2610156a-dafd-42db-8e4f-0847b576320e\" name=\"files[]\" multiple disabled\n",
              "        style=\"border:none\" />\n",
              "     <output id=\"result-2610156a-dafd-42db-8e4f-0847b576320e\">\n",
              "      Upload widget is only available when the cell has been executed in the\n",
              "      current browser session. Please rerun this cell to enable.\n",
              "      </output>\n",
              "      <script>// Copyright 2017 Google LLC\n",
              "//\n",
              "// Licensed under the Apache License, Version 2.0 (the \"License\");\n",
              "// you may not use this file except in compliance with the License.\n",
              "// You may obtain a copy of the License at\n",
              "//\n",
              "//      http://www.apache.org/licenses/LICENSE-2.0\n",
              "//\n",
              "// Unless required by applicable law or agreed to in writing, software\n",
              "// distributed under the License is distributed on an \"AS IS\" BASIS,\n",
              "// WITHOUT WARRANTIES OR CONDITIONS OF ANY KIND, either express or implied.\n",
              "// See the License for the specific language governing permissions and\n",
              "// limitations under the License.\n",
              "\n",
              "/**\n",
              " * @fileoverview Helpers for google.colab Python module.\n",
              " */\n",
              "(function(scope) {\n",
              "function span(text, styleAttributes = {}) {\n",
              "  const element = document.createElement('span');\n",
              "  element.textContent = text;\n",
              "  for (const key of Object.keys(styleAttributes)) {\n",
              "    element.style[key] = styleAttributes[key];\n",
              "  }\n",
              "  return element;\n",
              "}\n",
              "\n",
              "// Max number of bytes which will be uploaded at a time.\n",
              "const MAX_PAYLOAD_SIZE = 100 * 1024;\n",
              "\n",
              "function _uploadFiles(inputId, outputId) {\n",
              "  const steps = uploadFilesStep(inputId, outputId);\n",
              "  const outputElement = document.getElementById(outputId);\n",
              "  // Cache steps on the outputElement to make it available for the next call\n",
              "  // to uploadFilesContinue from Python.\n",
              "  outputElement.steps = steps;\n",
              "\n",
              "  return _uploadFilesContinue(outputId);\n",
              "}\n",
              "\n",
              "// This is roughly an async generator (not supported in the browser yet),\n",
              "// where there are multiple asynchronous steps and the Python side is going\n",
              "// to poll for completion of each step.\n",
              "// This uses a Promise to block the python side on completion of each step,\n",
              "// then passes the result of the previous step as the input to the next step.\n",
              "function _uploadFilesContinue(outputId) {\n",
              "  const outputElement = document.getElementById(outputId);\n",
              "  const steps = outputElement.steps;\n",
              "\n",
              "  const next = steps.next(outputElement.lastPromiseValue);\n",
              "  return Promise.resolve(next.value.promise).then((value) => {\n",
              "    // Cache the last promise value to make it available to the next\n",
              "    // step of the generator.\n",
              "    outputElement.lastPromiseValue = value;\n",
              "    return next.value.response;\n",
              "  });\n",
              "}\n",
              "\n",
              "/**\n",
              " * Generator function which is called between each async step of the upload\n",
              " * process.\n",
              " * @param {string} inputId Element ID of the input file picker element.\n",
              " * @param {string} outputId Element ID of the output display.\n",
              " * @return {!Iterable<!Object>} Iterable of next steps.\n",
              " */\n",
              "function* uploadFilesStep(inputId, outputId) {\n",
              "  const inputElement = document.getElementById(inputId);\n",
              "  inputElement.disabled = false;\n",
              "\n",
              "  const outputElement = document.getElementById(outputId);\n",
              "  outputElement.innerHTML = '';\n",
              "\n",
              "  const pickedPromise = new Promise((resolve) => {\n",
              "    inputElement.addEventListener('change', (e) => {\n",
              "      resolve(e.target.files);\n",
              "    });\n",
              "  });\n",
              "\n",
              "  const cancel = document.createElement('button');\n",
              "  inputElement.parentElement.appendChild(cancel);\n",
              "  cancel.textContent = 'Cancel upload';\n",
              "  const cancelPromise = new Promise((resolve) => {\n",
              "    cancel.onclick = () => {\n",
              "      resolve(null);\n",
              "    };\n",
              "  });\n",
              "\n",
              "  // Wait for the user to pick the files.\n",
              "  const files = yield {\n",
              "    promise: Promise.race([pickedPromise, cancelPromise]),\n",
              "    response: {\n",
              "      action: 'starting',\n",
              "    }\n",
              "  };\n",
              "\n",
              "  cancel.remove();\n",
              "\n",
              "  // Disable the input element since further picks are not allowed.\n",
              "  inputElement.disabled = true;\n",
              "\n",
              "  if (!files) {\n",
              "    return {\n",
              "      response: {\n",
              "        action: 'complete',\n",
              "      }\n",
              "    };\n",
              "  }\n",
              "\n",
              "  for (const file of files) {\n",
              "    const li = document.createElement('li');\n",
              "    li.append(span(file.name, {fontWeight: 'bold'}));\n",
              "    li.append(span(\n",
              "        `(${file.type || 'n/a'}) - ${file.size} bytes, ` +\n",
              "        `last modified: ${\n",
              "            file.lastModifiedDate ? file.lastModifiedDate.toLocaleDateString() :\n",
              "                                    'n/a'} - `));\n",
              "    const percent = span('0% done');\n",
              "    li.appendChild(percent);\n",
              "\n",
              "    outputElement.appendChild(li);\n",
              "\n",
              "    const fileDataPromise = new Promise((resolve) => {\n",
              "      const reader = new FileReader();\n",
              "      reader.onload = (e) => {\n",
              "        resolve(e.target.result);\n",
              "      };\n",
              "      reader.readAsArrayBuffer(file);\n",
              "    });\n",
              "    // Wait for the data to be ready.\n",
              "    let fileData = yield {\n",
              "      promise: fileDataPromise,\n",
              "      response: {\n",
              "        action: 'continue',\n",
              "      }\n",
              "    };\n",
              "\n",
              "    // Use a chunked sending to avoid message size limits. See b/62115660.\n",
              "    let position = 0;\n",
              "    do {\n",
              "      const length = Math.min(fileData.byteLength - position, MAX_PAYLOAD_SIZE);\n",
              "      const chunk = new Uint8Array(fileData, position, length);\n",
              "      position += length;\n",
              "\n",
              "      const base64 = btoa(String.fromCharCode.apply(null, chunk));\n",
              "      yield {\n",
              "        response: {\n",
              "          action: 'append',\n",
              "          file: file.name,\n",
              "          data: base64,\n",
              "        },\n",
              "      };\n",
              "\n",
              "      let percentDone = fileData.byteLength === 0 ?\n",
              "          100 :\n",
              "          Math.round((position / fileData.byteLength) * 100);\n",
              "      percent.textContent = `${percentDone}% done`;\n",
              "\n",
              "    } while (position < fileData.byteLength);\n",
              "  }\n",
              "\n",
              "  // All done.\n",
              "  yield {\n",
              "    response: {\n",
              "      action: 'complete',\n",
              "    }\n",
              "  };\n",
              "}\n",
              "\n",
              "scope.google = scope.google || {};\n",
              "scope.google.colab = scope.google.colab || {};\n",
              "scope.google.colab._files = {\n",
              "  _uploadFiles,\n",
              "  _uploadFilesContinue,\n",
              "};\n",
              "})(self);\n",
              "</script> "
            ]
          },
          "metadata": {}
        },
        {
          "output_type": "stream",
          "name": "stdout",
          "text": [
            "Saving data_rumah.xlsx to data_rumah.xlsx\n"
          ]
        }
      ]
    },
    {
      "cell_type": "code",
      "source": [
        "import pandas as pd\n",
        "\n",
        "# Membaca file iris.csv\n",
        "data = pd.read_excel('data_rumah.xlsx')"
      ],
      "metadata": {
        "id": "7A7PNrKE1Nql"
      },
      "execution_count": 22,
      "outputs": []
    },
    {
      "cell_type": "code",
      "source": [
        "data.info()"
      ],
      "metadata": {
        "colab": {
          "base_uri": "https://localhost:8080/"
        },
        "id": "jJxjttyC1TKX",
        "outputId": "6aa2caf4-20a3-47fc-ed91-12ef20f58466"
      },
      "execution_count": 23,
      "outputs": [
        {
          "output_type": "stream",
          "name": "stdout",
          "text": [
            "<class 'pandas.core.frame.DataFrame'>\n",
            "RangeIndex: 1010 entries, 0 to 1009\n",
            "Data columns (total 8 columns):\n",
            " #   Column      Non-Null Count  Dtype \n",
            "---  ------      --------------  ----- \n",
            " 0   NO          1010 non-null   int64 \n",
            " 1   NAMA RUMAH  1010 non-null   object\n",
            " 2   HARGA       1010 non-null   int64 \n",
            " 3   LB          1010 non-null   int64 \n",
            " 4   LT          1010 non-null   int64 \n",
            " 5   KT          1010 non-null   int64 \n",
            " 6   KM          1010 non-null   int64 \n",
            " 7   GRS         1010 non-null   int64 \n",
            "dtypes: int64(7), object(1)\n",
            "memory usage: 63.2+ KB\n"
          ]
        }
      ]
    },
    {
      "cell_type": "code",
      "source": [
        "# Memilih kolom yang akan digunakan untuk clustering\n",
        "X = data.iloc[:, 2:]\n",
        "\n",
        "# Menentukan jumlah cluster\n",
        "k = 2\n",
        "\n",
        "# Memilih centroid awal menggunakan fungsi pillars\n",
        "initial_centroids = pillars(X, k)\n",
        "\n",
        "# Melakukan clustering\n",
        "labels_history, centroids_history, data_count_history, silhouette_avg = perform_clustering(X, k, 100, initial_centroids)\n",
        "\n",
        "# Menampilkan hasil clustering\n",
        "print(\"Centroids History:\\n\", centroids_history)\n",
        "print(\"Labels History:\\n\", labels_history)\n",
        "print(\"Data Count History:\\n\", data_count_history)\n",
        "print(\"Silhouette Score:\", silhouette_avg)\n",
        "\n",
        "# Visualisasi hasil clustering\n",
        "final_labels = labels_history[-1]\n",
        "plt.scatter(X.iloc[:, 0], X.iloc[:, 1], c=final_labels, cmap='viridis')\n",
        "plt.scatter(centroids_history[-1][:, 0], centroids_history[-1][:, 1], s=300, c='red')\n",
        "plt.title('Hasil Clustering')\n",
        "plt.xlabel('Fitur 1')\n",
        "plt.ylabel('Fitur 2')\n",
        "plt.show()\n",
        "\n",
        "# Optimasi jumlah cluster\n",
        "optimize_cluster(X)"
      ],
      "metadata": {
        "colab": {
          "base_uri": "https://localhost:8080/",
          "height": 1000
        },
        "id": "r65E0hY01i27",
        "outputId": "772b9946-1a5c-4547-9758-313212c0a313"
      },
      "execution_count": 25,
      "outputs": [
        {
          "output_type": "stream",
          "name": "stdout",
          "text": [
            "Centroids History:\n",
            " [array([[7.28099589e+09, 2.73005994e+02, 2.33210789e+02, 4.66433566e+00,\n",
            "        3.59340659e+00, 1.91508492e+00],\n",
            "       [4.63333333e+10, 6.69555556e+02, 7.07000000e+02, 5.11111111e+00,\n",
            "        5.22222222e+00, 2.55555556e+00]]), array([[6.76034412e+09, 2.62090909e+02, 2.23176711e+02, 4.63227783e+00,\n",
            "        3.56077630e+00, 1.85291113e+00],\n",
            "       [3.50612903e+10, 7.32838710e+02, 6.87645161e+02, 5.80645161e+00,\n",
            "        5.09677419e+00, 4.06451613e+00]]), array([[5.92497520e+09, 2.47129828e+02, 2.03428112e+02, 4.57725322e+00,\n",
            "        3.49785408e+00, 1.73712446e+00],\n",
            "       [2.79897436e+10, 6.27948718e+02, 6.43743590e+02, 5.75641026e+00,\n",
            "        4.92307692e+00, 4.11538462e+00]]), array([[5.62711746e+09, 2.41537363e+02, 1.97171429e+02, 4.55274725e+00,\n",
            "        3.48131868e+00, 1.70659341e+00],\n",
            "       [2.58460000e+10, 5.95060000e+02, 6.03810000e+02, 5.72000000e+00,\n",
            "        4.76000000e+00, 3.87000000e+00]]), array([[5.52189444e+09, 2.38938957e+02, 1.95176471e+02, 4.54384018e+00,\n",
            "        3.46725860e+00, 1.70144284e+00],\n",
            "       [2.50463303e+10, 5.87348624e+02, 5.86724771e+02, 5.69724771e+00,\n",
            "        4.77064220e+00, 3.73394495e+00]]), array([[5.52189444e+09, 2.38938957e+02, 1.95176471e+02, 4.54384018e+00,\n",
            "        3.46725860e+00, 1.70144284e+00],\n",
            "       [2.50463303e+10, 5.87348624e+02, 5.86724771e+02, 5.69724771e+00,\n",
            "        4.77064220e+00, 3.73394495e+00]])]\n",
            "Labels History:\n",
            " [array([0, 0, 0, ..., 0, 0, 0]), array([0, 0, 0, ..., 0, 0, 0]), array([0, 0, 0, ..., 0, 0, 0]), array([0, 0, 0, ..., 0, 1, 0]), array([0, 0, 0, ..., 0, 1, 0]), array([0, 0, 0, ..., 0, 1, 0])]\n",
            "Data Count History:\n",
            " [[1001, 9], [979, 31], [932, 78], [910, 100], [901, 109], [901, 109]]\n",
            "Silhouette Score: 0.7701791167926101\n"
          ]
        },
        {
          "output_type": "display_data",
          "data": {
            "text/plain": [
              "<Figure size 640x480 with 1 Axes>"
            ],
            "image/png": "[encoded data removed]"
          },
          "metadata": {}
        },
        {
          "output_type": "display_data",
          "data": {
            "text/plain": [
              "<Figure size 640x480 with 1 Axes>"
            ],
            "image/png": "[encoded data removed]"
          },
          "metadata": {}
        }
      ]
    }
  ]
}